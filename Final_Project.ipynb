{
  "nbformat": 4,
  "nbformat_minor": 0,
  "metadata": {
    "colab": {
      "name": "Final Project",
      "provenance": [],
      "collapsed_sections": []
    },
    "kernelspec": {
      "name": "python3",
      "display_name": "Python 3"
    },
    "language_info": {
      "name": "python"
    }
  },
  "cells": [
    {
      "cell_type": "code",
      "metadata": {
        "colab": {
          "base_uri": "https://localhost:8080/",
          "height": 224
        },
        "id": "73o7vkapLD8k",
        "outputId": "c96155ee-503f-465a-cf0b-cec4e01ed159"
      },
      "source": [
        "# Han Lee\n",
        "# CSC 2730\n",
        "\n",
        "%pylab inline\n",
        "import pandas as pd\n",
        "import numpy as np\n",
        "import matplotlib.pyplot as plt\n",
        "from sklearn.linear_model import LinearRegression\n",
        "from sklearn.metrics import mean_squared_error\n",
        "\n",
        "url = 'https://raw.githubusercontent.com/sunlee115/csc2730project/main/forestfires.csv'\n",
        "df = pd.read_csv(url)\n",
        "\n",
        "df.month.replace(('jan','feb','mar','apr','may','jun','jul','aug','sep','oct','nov','dec'),(1,2,3,4,5,6,7,8,9,10,11,12), inplace=True)\n",
        "df=df.drop(['X','Y','day'], axis=1)\n",
        "\n",
        "df.head(5)"
      ],
      "execution_count": 1,
      "outputs": [
        {
          "output_type": "stream",
          "name": "stdout",
          "text": [
            "Populating the interactive namespace from numpy and matplotlib\n"
          ]
        },
        {
          "output_type": "execute_result",
          "data": {
            "text/html": [
              "<div>\n",
              "<style scoped>\n",
              "    .dataframe tbody tr th:only-of-type {\n",
              "        vertical-align: middle;\n",
              "    }\n",
              "\n",
              "    .dataframe tbody tr th {\n",
              "        vertical-align: top;\n",
              "    }\n",
              "\n",
              "    .dataframe thead th {\n",
              "        text-align: right;\n",
              "    }\n",
              "</style>\n",
              "<table border=\"1\" class=\"dataframe\">\n",
              "  <thead>\n",
              "    <tr style=\"text-align: right;\">\n",
              "      <th></th>\n",
              "      <th>month</th>\n",
              "      <th>FFMC</th>\n",
              "      <th>DMC</th>\n",
              "      <th>DC</th>\n",
              "      <th>ISI</th>\n",
              "      <th>temp</th>\n",
              "      <th>RH</th>\n",
              "      <th>wind</th>\n",
              "      <th>rain</th>\n",
              "      <th>area</th>\n",
              "    </tr>\n",
              "  </thead>\n",
              "  <tbody>\n",
              "    <tr>\n",
              "      <th>0</th>\n",
              "      <td>3</td>\n",
              "      <td>86.2</td>\n",
              "      <td>26.2</td>\n",
              "      <td>94.3</td>\n",
              "      <td>5.1</td>\n",
              "      <td>8.2</td>\n",
              "      <td>51</td>\n",
              "      <td>6.7</td>\n",
              "      <td>0.0</td>\n",
              "      <td>0.0</td>\n",
              "    </tr>\n",
              "    <tr>\n",
              "      <th>1</th>\n",
              "      <td>10</td>\n",
              "      <td>90.6</td>\n",
              "      <td>35.4</td>\n",
              "      <td>669.1</td>\n",
              "      <td>6.7</td>\n",
              "      <td>18.0</td>\n",
              "      <td>33</td>\n",
              "      <td>0.9</td>\n",
              "      <td>0.0</td>\n",
              "      <td>0.0</td>\n",
              "    </tr>\n",
              "    <tr>\n",
              "      <th>2</th>\n",
              "      <td>10</td>\n",
              "      <td>90.6</td>\n",
              "      <td>43.7</td>\n",
              "      <td>686.9</td>\n",
              "      <td>6.7</td>\n",
              "      <td>14.6</td>\n",
              "      <td>33</td>\n",
              "      <td>1.3</td>\n",
              "      <td>0.0</td>\n",
              "      <td>0.0</td>\n",
              "    </tr>\n",
              "    <tr>\n",
              "      <th>3</th>\n",
              "      <td>3</td>\n",
              "      <td>91.7</td>\n",
              "      <td>33.3</td>\n",
              "      <td>77.5</td>\n",
              "      <td>9.0</td>\n",
              "      <td>8.3</td>\n",
              "      <td>97</td>\n",
              "      <td>4.0</td>\n",
              "      <td>0.2</td>\n",
              "      <td>0.0</td>\n",
              "    </tr>\n",
              "    <tr>\n",
              "      <th>4</th>\n",
              "      <td>3</td>\n",
              "      <td>89.3</td>\n",
              "      <td>51.3</td>\n",
              "      <td>102.2</td>\n",
              "      <td>9.6</td>\n",
              "      <td>11.4</td>\n",
              "      <td>99</td>\n",
              "      <td>1.8</td>\n",
              "      <td>0.0</td>\n",
              "      <td>0.0</td>\n",
              "    </tr>\n",
              "  </tbody>\n",
              "</table>\n",
              "</div>"
            ],
            "text/plain": [
              "   month  FFMC   DMC     DC  ISI  temp  RH  wind  rain  area\n",
              "0      3  86.2  26.2   94.3  5.1   8.2  51   6.7   0.0   0.0\n",
              "1     10  90.6  35.4  669.1  6.7  18.0  33   0.9   0.0   0.0\n",
              "2     10  90.6  43.7  686.9  6.7  14.6  33   1.3   0.0   0.0\n",
              "3      3  91.7  33.3   77.5  9.0   8.3  97   4.0   0.2   0.0\n",
              "4      3  89.3  51.3  102.2  9.6  11.4  99   1.8   0.0   0.0"
            ]
          },
          "metadata": {},
          "execution_count": 1
        }
      ]
    },
    {
      "cell_type": "code",
      "metadata": {
        "colab": {
          "base_uri": "https://localhost:8080/",
          "height": 206
        },
        "id": "lOizwfsk1stA",
        "outputId": "aef9ff15-c7e7-4faa-d073-869f5adea18e"
      },
      "source": [
        "#Identify the outliers \n",
        "df.loc[df['area'] > 200]"
      ],
      "execution_count": 2,
      "outputs": [
        {
          "output_type": "execute_result",
          "data": {
            "text/html": [
              "<div>\n",
              "<style scoped>\n",
              "    .dataframe tbody tr th:only-of-type {\n",
              "        vertical-align: middle;\n",
              "    }\n",
              "\n",
              "    .dataframe tbody tr th {\n",
              "        vertical-align: top;\n",
              "    }\n",
              "\n",
              "    .dataframe thead th {\n",
              "        text-align: right;\n",
              "    }\n",
              "</style>\n",
              "<table border=\"1\" class=\"dataframe\">\n",
              "  <thead>\n",
              "    <tr style=\"text-align: right;\">\n",
              "      <th></th>\n",
              "      <th>month</th>\n",
              "      <th>FFMC</th>\n",
              "      <th>DMC</th>\n",
              "      <th>DC</th>\n",
              "      <th>ISI</th>\n",
              "      <th>temp</th>\n",
              "      <th>RH</th>\n",
              "      <th>wind</th>\n",
              "      <th>rain</th>\n",
              "      <th>area</th>\n",
              "    </tr>\n",
              "  </thead>\n",
              "  <tbody>\n",
              "    <tr>\n",
              "      <th>236</th>\n",
              "      <td>9</td>\n",
              "      <td>92.5</td>\n",
              "      <td>121.1</td>\n",
              "      <td>674.4</td>\n",
              "      <td>8.6</td>\n",
              "      <td>18.2</td>\n",
              "      <td>46</td>\n",
              "      <td>1.8</td>\n",
              "      <td>0.0</td>\n",
              "      <td>200.94</td>\n",
              "    </tr>\n",
              "    <tr>\n",
              "      <th>237</th>\n",
              "      <td>9</td>\n",
              "      <td>91.0</td>\n",
              "      <td>129.5</td>\n",
              "      <td>692.6</td>\n",
              "      <td>7.0</td>\n",
              "      <td>18.8</td>\n",
              "      <td>40</td>\n",
              "      <td>2.2</td>\n",
              "      <td>0.0</td>\n",
              "      <td>212.88</td>\n",
              "    </tr>\n",
              "    <tr>\n",
              "      <th>238</th>\n",
              "      <td>9</td>\n",
              "      <td>92.5</td>\n",
              "      <td>121.1</td>\n",
              "      <td>674.4</td>\n",
              "      <td>8.6</td>\n",
              "      <td>25.1</td>\n",
              "      <td>27</td>\n",
              "      <td>4.0</td>\n",
              "      <td>0.0</td>\n",
              "      <td>1090.84</td>\n",
              "    </tr>\n",
              "    <tr>\n",
              "      <th>415</th>\n",
              "      <td>8</td>\n",
              "      <td>94.8</td>\n",
              "      <td>222.4</td>\n",
              "      <td>698.6</td>\n",
              "      <td>13.9</td>\n",
              "      <td>27.5</td>\n",
              "      <td>27</td>\n",
              "      <td>4.9</td>\n",
              "      <td>0.0</td>\n",
              "      <td>746.28</td>\n",
              "    </tr>\n",
              "    <tr>\n",
              "      <th>479</th>\n",
              "      <td>7</td>\n",
              "      <td>89.2</td>\n",
              "      <td>103.9</td>\n",
              "      <td>431.6</td>\n",
              "      <td>6.4</td>\n",
              "      <td>22.6</td>\n",
              "      <td>57</td>\n",
              "      <td>4.9</td>\n",
              "      <td>0.0</td>\n",
              "      <td>278.53</td>\n",
              "    </tr>\n",
              "  </tbody>\n",
              "</table>\n",
              "</div>"
            ],
            "text/plain": [
              "     month  FFMC    DMC     DC   ISI  temp  RH  wind  rain     area\n",
              "236      9  92.5  121.1  674.4   8.6  18.2  46   1.8   0.0   200.94\n",
              "237      9  91.0  129.5  692.6   7.0  18.8  40   2.2   0.0   212.88\n",
              "238      9  92.5  121.1  674.4   8.6  25.1  27   4.0   0.0  1090.84\n",
              "415      8  94.8  222.4  698.6  13.9  27.5  27   4.9   0.0   746.28\n",
              "479      7  89.2  103.9  431.6   6.4  22.6  57   4.9   0.0   278.53"
            ]
          },
          "metadata": {},
          "execution_count": 2
        }
      ]
    },
    {
      "cell_type": "code",
      "metadata": {
        "id": "LPrWlNQe2o9M"
      },
      "source": [
        "#Drop the outliers from the dataframe \n",
        "df.drop(\n",
        "    labels=[238,415],\n",
        "    axis=0,\n",
        "    inplace=True\n",
        ")"
      ],
      "execution_count": 3,
      "outputs": []
    },
    {
      "cell_type": "code",
      "metadata": {
        "colab": {
          "base_uri": "https://localhost:8080/",
          "height": 300
        },
        "id": "fgdKzRrmqN13",
        "outputId": "8f9dec2f-7556-4950-a7b8-1f57775c2ed9"
      },
      "source": [
        "df.describe()"
      ],
      "execution_count": 4,
      "outputs": [
        {
          "output_type": "execute_result",
          "data": {
            "text/html": [
              "<div>\n",
              "<style scoped>\n",
              "    .dataframe tbody tr th:only-of-type {\n",
              "        vertical-align: middle;\n",
              "    }\n",
              "\n",
              "    .dataframe tbody tr th {\n",
              "        vertical-align: top;\n",
              "    }\n",
              "\n",
              "    .dataframe thead th {\n",
              "        text-align: right;\n",
              "    }\n",
              "</style>\n",
              "<table border=\"1\" class=\"dataframe\">\n",
              "  <thead>\n",
              "    <tr style=\"text-align: right;\">\n",
              "      <th></th>\n",
              "      <th>month</th>\n",
              "      <th>FFMC</th>\n",
              "      <th>DMC</th>\n",
              "      <th>DC</th>\n",
              "      <th>ISI</th>\n",
              "      <th>temp</th>\n",
              "      <th>RH</th>\n",
              "      <th>wind</th>\n",
              "      <th>rain</th>\n",
              "      <th>area</th>\n",
              "    </tr>\n",
              "  </thead>\n",
              "  <tbody>\n",
              "    <tr>\n",
              "      <th>count</th>\n",
              "      <td>515.000000</td>\n",
              "      <td>515.000000</td>\n",
              "      <td>515.000000</td>\n",
              "      <td>515.000000</td>\n",
              "      <td>515.000000</td>\n",
              "      <td>515.000000</td>\n",
              "      <td>515.000000</td>\n",
              "      <td>515.000000</td>\n",
              "      <td>515.000000</td>\n",
              "      <td>515.000000</td>\n",
              "    </tr>\n",
              "    <tr>\n",
              "      <th>mean</th>\n",
              "      <td>7.471845</td>\n",
              "      <td>90.633010</td>\n",
              "      <td>110.635922</td>\n",
              "      <td>547.401942</td>\n",
              "      <td>9.013010</td>\n",
              "      <td>18.860388</td>\n",
              "      <td>44.355340</td>\n",
              "      <td>4.015922</td>\n",
              "      <td>0.021748</td>\n",
              "      <td>9.329961</td>\n",
              "    </tr>\n",
              "    <tr>\n",
              "      <th>std</th>\n",
              "      <td>2.279302</td>\n",
              "      <td>5.527184</td>\n",
              "      <td>63.980106</td>\n",
              "      <td>248.396286</td>\n",
              "      <td>4.563223</td>\n",
              "      <td>5.798962</td>\n",
              "      <td>16.313441</td>\n",
              "      <td>1.794712</td>\n",
              "      <td>0.296531</td>\n",
              "      <td>27.350635</td>\n",
              "    </tr>\n",
              "    <tr>\n",
              "      <th>min</th>\n",
              "      <td>1.000000</td>\n",
              "      <td>18.700000</td>\n",
              "      <td>1.100000</td>\n",
              "      <td>7.900000</td>\n",
              "      <td>0.000000</td>\n",
              "      <td>2.200000</td>\n",
              "      <td>15.000000</td>\n",
              "      <td>0.400000</td>\n",
              "      <td>0.000000</td>\n",
              "      <td>0.000000</td>\n",
              "    </tr>\n",
              "    <tr>\n",
              "      <th>25%</th>\n",
              "      <td>7.000000</td>\n",
              "      <td>90.200000</td>\n",
              "      <td>65.450000</td>\n",
              "      <td>435.500000</td>\n",
              "      <td>6.450000</td>\n",
              "      <td>15.500000</td>\n",
              "      <td>33.000000</td>\n",
              "      <td>2.700000</td>\n",
              "      <td>0.000000</td>\n",
              "      <td>0.000000</td>\n",
              "    </tr>\n",
              "    <tr>\n",
              "      <th>50%</th>\n",
              "      <td>8.000000</td>\n",
              "      <td>91.600000</td>\n",
              "      <td>108.300000</td>\n",
              "      <td>661.800000</td>\n",
              "      <td>8.400000</td>\n",
              "      <td>19.300000</td>\n",
              "      <td>42.000000</td>\n",
              "      <td>4.000000</td>\n",
              "      <td>0.000000</td>\n",
              "      <td>0.520000</td>\n",
              "    </tr>\n",
              "    <tr>\n",
              "      <th>75%</th>\n",
              "      <td>9.000000</td>\n",
              "      <td>92.900000</td>\n",
              "      <td>141.850000</td>\n",
              "      <td>713.900000</td>\n",
              "      <td>10.750000</td>\n",
              "      <td>22.800000</td>\n",
              "      <td>53.000000</td>\n",
              "      <td>4.900000</td>\n",
              "      <td>0.000000</td>\n",
              "      <td>6.490000</td>\n",
              "    </tr>\n",
              "    <tr>\n",
              "      <th>max</th>\n",
              "      <td>12.000000</td>\n",
              "      <td>96.200000</td>\n",
              "      <td>291.300000</td>\n",
              "      <td>860.600000</td>\n",
              "      <td>56.100000</td>\n",
              "      <td>33.300000</td>\n",
              "      <td>100.000000</td>\n",
              "      <td>9.400000</td>\n",
              "      <td>6.400000</td>\n",
              "      <td>278.530000</td>\n",
              "    </tr>\n",
              "  </tbody>\n",
              "</table>\n",
              "</div>"
            ],
            "text/plain": [
              "            month        FFMC         DMC  ...        wind        rain        area\n",
              "count  515.000000  515.000000  515.000000  ...  515.000000  515.000000  515.000000\n",
              "mean     7.471845   90.633010  110.635922  ...    4.015922    0.021748    9.329961\n",
              "std      2.279302    5.527184   63.980106  ...    1.794712    0.296531   27.350635\n",
              "min      1.000000   18.700000    1.100000  ...    0.400000    0.000000    0.000000\n",
              "25%      7.000000   90.200000   65.450000  ...    2.700000    0.000000    0.000000\n",
              "50%      8.000000   91.600000  108.300000  ...    4.000000    0.000000    0.520000\n",
              "75%      9.000000   92.900000  141.850000  ...    4.900000    0.000000    6.490000\n",
              "max     12.000000   96.200000  291.300000  ...    9.400000    6.400000  278.530000\n",
              "\n",
              "[8 rows x 10 columns]"
            ]
          },
          "metadata": {},
          "execution_count": 4
        }
      ]
    },
    {
      "cell_type": "code",
      "metadata": {
        "colab": {
          "base_uri": "https://localhost:8080/"
        },
        "id": "dk3h3n_wqPHx",
        "outputId": "cc7fa913-616a-4d8d-ba4f-66810f2007e5"
      },
      "source": [
        "#Find highest and lowest correlation\n",
        "print('Correlation with Area \\n' + str(df.corr()['area']))"
      ],
      "execution_count": 5,
      "outputs": [
        {
          "output_type": "stream",
          "name": "stdout",
          "text": [
            "Correlation with Area \n",
            "month    0.068309\n",
            "FFMC     0.028390\n",
            "DMC      0.067048\n",
            "DC       0.044267\n",
            "ISI     -0.029655\n",
            "temp     0.068676\n",
            "RH      -0.039408\n",
            "wind     0.003710\n",
            "rain    -0.007727\n",
            "area     1.000000\n",
            "Name: area, dtype: float64\n"
          ]
        }
      ]
    },
    {
      "cell_type": "code",
      "metadata": {
        "colab": {
          "base_uri": "https://localhost:8080/",
          "height": 833
        },
        "id": "R07XRmUPr2sK",
        "outputId": "c57b2a57-e9f5-451d-df68-b3acd9e74b93"
      },
      "source": [
        "#Visualize all the attributes\n",
        "df.hist(bins=20,figsize=(15,10))"
      ],
      "execution_count": 6,
      "outputs": [
        {
          "output_type": "execute_result",
          "data": {
            "text/plain": [
              "array([[<matplotlib.axes._subplots.AxesSubplot object at 0x7fb05b82c710>,\n",
              "        <matplotlib.axes._subplots.AxesSubplot object at 0x7fb05b77dbd0>,\n",
              "        <matplotlib.axes._subplots.AxesSubplot object at 0x7fb05b744210>],\n",
              "       [<matplotlib.axes._subplots.AxesSubplot object at 0x7fb05b779810>,\n",
              "        <matplotlib.axes._subplots.AxesSubplot object at 0x7fb05b7337d0>,\n",
              "        <matplotlib.axes._subplots.AxesSubplot object at 0x7fb05b6e9dd0>],\n",
              "       [<matplotlib.axes._subplots.AxesSubplot object at 0x7fb05b6aa410>,\n",
              "        <matplotlib.axes._subplots.AxesSubplot object at 0x7fb05b661950>,\n",
              "        <matplotlib.axes._subplots.AxesSubplot object at 0x7fb05b661990>],\n",
              "       [<matplotlib.axes._subplots.AxesSubplot object at 0x7fb05b6280d0>,\n",
              "        <matplotlib.axes._subplots.AxesSubplot object at 0x7fb05b592bd0>,\n",
              "        <matplotlib.axes._subplots.AxesSubplot object at 0x7fb05b554210>]],\n",
              "      dtype=object)"
            ]
          },
          "metadata": {},
          "execution_count": 6
        },
        {
          "output_type": "display_data",
          "data": {
            "image/png": "[encoded data removed]",
            "text/plain": [
              "<Figure size 1080x720 with 12 Axes>"
            ]
          },
          "metadata": {
            "needs_background": "light"
          }
        }
      ]
    },
    {
      "cell_type": "code",
      "metadata": {
        "colab": {
          "base_uri": "https://localhost:8080/",
          "height": 282
        },
        "id": "gDZN5nRRtYtg",
        "outputId": "fb4322c8-b4bd-4511-cfb6-1e3208ffbc6a"
      },
      "source": [
        "#Visualize area specifically and identify max area\n",
        "plt.hist(df.area, color='green')\n",
        "plt.text(170, 450, 'max is: ' + str(df.area.max()), size=15)"
      ],
      "execution_count": 7,
      "outputs": [
        {
          "output_type": "execute_result",
          "data": {
            "text/plain": [
              "Text(170, 450, 'max is: 278.53')"
            ]
          },
          "metadata": {},
          "execution_count": 7
        },
        {
          "output_type": "display_data",
          "data": {
            "image/png": "[encoded data removed]",
            "text/plain": [
              "<Figure size 432x288 with 1 Axes>"
            ]
          },
          "metadata": {
            "needs_background": "light"
          }
        }
      ]
    },
    {
      "cell_type": "code",
      "metadata": {
        "id": "Aa5LU8LHyKES"
      },
      "source": [
        "#Convert from dataframe to numpy array and set up variables\n",
        "data = df.to_numpy()\n",
        "\n",
        "month = data[:,0]\n",
        "FFMC = data[:,1]\n",
        "DMC = data[:,2]\n",
        "DC = data[:,3]\n",
        "ISI = data[:,4]\n",
        "temp = data[:,5]\n",
        "RH = data[:,6]\n",
        "wind = data[:,7]\n",
        "rain = data[:,8]\n",
        "area = data[:,9]\n",
        "\n",
        "X=data[:,0:9]\n",
        "Y=data[:,9]"
      ],
      "execution_count": 8,
      "outputs": []
    },
    {
      "cell_type": "code",
      "metadata": {
        "colab": {
          "base_uri": "https://localhost:8080/",
          "height": 314
        },
        "id": "DFDhGF4oy0iV",
        "outputId": "6c111a1f-210f-47e7-bdb0-877971b45dcb"
      },
      "source": [
        "# Graph of Month and Area\n",
        "model = LinearRegression(fit_intercept=True)\n",
        "model.fit(month[:, None], area)\n",
        "\n",
        "yp = model.predict(month[:, None])\n",
        "scatter(month, area)\n",
        "xfit = np.linspace(1,12)\n",
        "yfit = model.predict(xfit[:, None])\n",
        "plot(xfit, yfit, 'r')\n",
        "plt.xlabel('Month')\n",
        "plt.ylabel('Area')\n",
        "\n",
        "#MSE = mean squared error\n",
        "print('MSE =', mean_squared_error(Y,yp))\n",
        "print('Slope: ' + str(model.coef_))"
      ],
      "execution_count": 9,
      "outputs": [
        {
          "output_type": "stream",
          "name": "stdout",
          "text": [
            "MSE = 743.1210019996515\n",
            "Slope: [0.8196739]\n"
          ]
        },
        {
          "output_type": "display_data",
          "data": {
            "image/png": "[encoded data removed]",
            "text/plain": [
              "<Figure size 432x288 with 1 Axes>"
            ]
          },
          "metadata": {
            "needs_background": "light"
          }
        }
      ]
    },
    {
      "cell_type": "code",
      "metadata": {
        "colab": {
          "base_uri": "https://localhost:8080/",
          "height": 314
        },
        "id": "dudF2b5XnBHv",
        "outputId": "46cfd56d-f937-491d-e7f4-4b64a5a776c7"
      },
      "source": [
        "# FFMC and Area\n",
        "\n",
        "model = LinearRegression(fit_intercept=True)\n",
        "model.fit(FFMC[:, None], area)\n",
        "\n",
        "yp = model.predict(FFMC[:, None])\n",
        "scatter(FFMC, area)\n",
        "xfit = np.linspace(15,100)\n",
        "yfit = model.predict(xfit[:, None])\n",
        "plot(xfit, yfit, 'r')\n",
        "plt.xlabel('FFMC')\n",
        "plt.ylabel('Area')\n",
        "\n",
        "print('MSE =', mean_squared_error(Y,yp))\n",
        "print('Slope: ' + str(model.coef_))"
      ],
      "execution_count": 10,
      "outputs": [
        {
          "output_type": "stream",
          "name": "stdout",
          "text": [
            "MSE = 746.0029682678808\n",
            "Slope: [0.14048289]\n"
          ]
        },
        {
          "output_type": "display_data",
          "data": {
            "image/png": "[encoded data removed]",
            "text/plain": [
              "<Figure size 432x288 with 1 Axes>"
            ]
          },
          "metadata": {
            "needs_background": "light"
          }
        }
      ]
    },
    {
      "cell_type": "code",
      "metadata": {
        "colab": {
          "base_uri": "https://localhost:8080/",
          "height": 314
        },
        "id": "UV0lEBywnTgs",
        "outputId": "a5baa88e-9f7f-4946-ba19-8ca2c7f43a0b"
      },
      "source": [
        "# DMC and Area\n",
        "\n",
        "model = LinearRegression(fit_intercept=True)\n",
        "model.fit(DMC[:, None], area)\n",
        "\n",
        "yp = model.predict(DMC[:, None])\n",
        "scatter(DMC, area)\n",
        "xfit = np.linspace(0,300)\n",
        "yfit = model.predict(xfit[:, None])\n",
        "plot(xfit, yfit, 'r')\n",
        "plt.xlabel('DMC')\n",
        "plt.ylabel('Area')\n",
        "\n",
        "print('MSE =', mean_squared_error(Y,yp))\n",
        "print('Slope: ' + str(model.coef_))"
      ],
      "execution_count": 11,
      "outputs": [
        {
          "output_type": "stream",
          "name": "stdout",
          "text": [
            "MSE = 743.2483863710979\n",
            "Slope: [0.02866217]\n"
          ]
        },
        {
          "output_type": "display_data",
          "data": {
            "image/png": "[encoded data removed]",
            "text/plain": [
              "<Figure size 432x288 with 1 Axes>"
            ]
          },
          "metadata": {
            "needs_background": "light"
          }
        }
      ]
    },
    {
      "cell_type": "code",
      "metadata": {
        "colab": {
          "base_uri": "https://localhost:8080/",
          "height": 314
        },
        "id": "WZGQo9KQncbL",
        "outputId": "b6d040f3-6b95-4291-9ca3-93e78365572d"
      },
      "source": [
        "# DC and Area\n",
        "\n",
        "model = LinearRegression(fit_intercept=True)\n",
        "model.fit(DC[:, None], area)\n",
        "\n",
        "yp = model.predict(DC[:, None])\n",
        "scatter(DC, area)\n",
        "xfit = np.linspace(0,900)\n",
        "yfit = model.predict(xfit[:, None])\n",
        "plot(xfit, yfit, 'r')\n",
        "plt.xlabel('DC')\n",
        "plt.ylabel('Area')\n",
        "\n",
        "print('MSE =', mean_squared_error(Y,yp))\n",
        "print('Slope: ' + str(model.coef_))"
      ],
      "execution_count": 12,
      "outputs": [
        {
          "output_type": "stream",
          "name": "stdout",
          "text": [
            "MSE = 745.1416672743895\n",
            "Slope: [0.00487422]\n"
          ]
        },
        {
          "output_type": "display_data",
          "data": {
            "image/png": "[encoded data removed]",
            "text/plain": [
              "<Figure size 432x288 with 1 Axes>"
            ]
          },
          "metadata": {
            "needs_background": "light"
          }
        }
      ]
    },
    {
      "cell_type": "code",
      "metadata": {
        "colab": {
          "base_uri": "https://localhost:8080/",
          "height": 314
        },
        "id": "zFGqrkU2np7Y",
        "outputId": "508c880f-b27e-48d5-a806-ca2324676cc1"
      },
      "source": [
        "# ISI and Area\n",
        "\n",
        "model = LinearRegression(fit_intercept=True)\n",
        "model.fit(ISI[:, None], area)\n",
        "\n",
        "yp = model.predict(ISI[:, None])\n",
        "scatter(ISI, area)\n",
        "xfit = np.linspace(0,60)\n",
        "yfit = model.predict(xfit[:, None])\n",
        "plot(xfit, yfit, 'r')\n",
        "plt.xlabel('ISI')\n",
        "plt.ylabel('Area')\n",
        "\n",
        "print('MSE =', mean_squared_error(Y,yp))\n",
        "print('Slope: ' + str(model.coef_))"
      ],
      "execution_count": 13,
      "outputs": [
        {
          "output_type": "stream",
          "name": "stdout",
          "text": [
            "MSE = 745.9481507830296\n",
            "Slope: [-0.17774098]\n"
          ]
        },
        {
          "output_type": "display_data",
          "data": {
            "image/png": "[encoded data removed]",
            "text/plain": [
              "<Figure size 432x288 with 1 Axes>"
            ]
          },
          "metadata": {
            "needs_background": "light"
          }
        }
      ]
    },
    {
      "cell_type": "code",
      "metadata": {
        "colab": {
          "base_uri": "https://localhost:8080/",
          "height": 314
        },
        "id": "w9nkroxy0Sbq",
        "outputId": "31d61897-b9db-4f4c-9637-375d207d180f"
      },
      "source": [
        "# Temp and Area\n",
        "\n",
        "model = LinearRegression(fit_intercept=True)\n",
        "model.fit(temp[:, None], area)\n",
        "\n",
        "yp = model.predict(temp[:, None])\n",
        "scatter(temp, area)\n",
        "xfit = np.linspace(0,35)\n",
        "yfit = model.predict(xfit[:, None])\n",
        "plot(xfit, yfit, 'r')\n",
        "plt.xlabel('Temp')\n",
        "plt.ylabel('Area')\n",
        "\n",
        "print('MSE =', mean_squared_error(Y,yp))\n",
        "print('Slope: ' + str(model.coef_))"
      ],
      "execution_count": 14,
      "outputs": [
        {
          "output_type": "stream",
          "name": "stdout",
          "text": [
            "MSE = 743.0834580592666\n",
            "Slope: [0.32390703]\n"
          ]
        },
        {
          "output_type": "display_data",
          "data": {
            "image/png": "[encoded data removed]",
            "text/plain": [
              "<Figure size 432x288 with 1 Axes>"
            ]
          },
          "metadata": {
            "needs_background": "light"
          }
        }
      ]
    },
    {
      "cell_type": "code",
      "metadata": {
        "colab": {
          "base_uri": "https://localhost:8080/",
          "height": 314
        },
        "id": "TdvafCm_nxHj",
        "outputId": "060be18c-8df7-4855-a988-14516e7d72c6"
      },
      "source": [
        "# RH and Area\n",
        "\n",
        "model = LinearRegression(fit_intercept=True)\n",
        "model.fit(RH[:, None], area)\n",
        "\n",
        "yp = model.predict(RH[:, None])\n",
        "scatter(RH, area)\n",
        "xfit = np.linspace(10,105)\n",
        "yfit = model.predict(xfit[:, None])\n",
        "plot(xfit, yfit, 'r')\n",
        "plt.xlabel('RH')\n",
        "plt.ylabel('Area')\n",
        "\n",
        "print('MSE =', mean_squared_error(Y,yp))\n",
        "print('Slope: ' + str(model.coef_))"
      ],
      "execution_count": 15,
      "outputs": [
        {
          "output_type": "stream",
          "name": "stdout",
          "text": [
            "MSE = 745.4452306358706\n",
            "Slope: [-0.06607058]\n"
          ]
        },
        {
          "output_type": "display_data",
          "data": {
            "image/png": "[encoded data removed]",
            "text/plain": [
              "<Figure size 432x288 with 1 Axes>"
            ]
          },
          "metadata": {
            "needs_background": "light"
          }
        }
      ]
    },
    {
      "cell_type": "code",
      "metadata": {
        "colab": {
          "base_uri": "https://localhost:8080/",
          "height": 314
        },
        "id": "cJ5iFnOzn5M4",
        "outputId": "a871e688-da54-4183-f118-ed989d13569a"
      },
      "source": [
        "# wind and Area\n",
        "\n",
        "model = LinearRegression(fit_intercept=True)\n",
        "model.fit(wind[:, None], area)\n",
        "\n",
        "yp = model.predict(wind[:, None])\n",
        "scatter(wind, area)\n",
        "xfit = np.linspace(0,10)\n",
        "yfit = model.predict(xfit[:, None])\n",
        "plot(xfit, yfit, 'r')\n",
        "plt.xlabel('wind')\n",
        "plt.ylabel('Area')\n",
        "\n",
        "print('MSE =', mean_squared_error(Y,yp))\n",
        "print('Slope: ' + str(model.coef_))"
      ],
      "execution_count": 16,
      "outputs": [
        {
          "output_type": "stream",
          "name": "stdout",
          "text": [
            "MSE = 746.594431858591\n",
            "Slope: [0.05654561]\n"
          ]
        },
        {
          "output_type": "display_data",
          "data": {
            "image/png": "[encoded data removed]",
            "text/plain": [
              "<Figure size 432x288 with 1 Axes>"
            ]
          },
          "metadata": {
            "needs_background": "light"
          }
        }
      ]
    },
    {
      "cell_type": "code",
      "metadata": {
        "colab": {
          "base_uri": "https://localhost:8080/",
          "height": 314
        },
        "id": "EWPbyeKpoCWC",
        "outputId": "c57ac51a-5923-455d-8b9a-7481d34afee0"
      },
      "source": [
        "# rain and Area\n",
        "\n",
        "model = LinearRegression(fit_intercept=True)\n",
        "model.fit(rain[:, None], area)\n",
        "\n",
        "yp = model.predict(rain[:, None])\n",
        "scatter(rain, area)\n",
        "xfit = np.linspace(-.5,7)\n",
        "yfit = model.predict(xfit[:, None])\n",
        "plot(xfit, yfit, 'r')\n",
        "plt.xlabel('rain')\n",
        "plt.ylabel('Area')\n",
        "\n",
        "print('MSE =', mean_squared_error(data[:,9],yp))\n",
        "print('Slope: ' + str(model.coef_))"
      ],
      "execution_count": 17,
      "outputs": [
        {
          "output_type": "stream",
          "name": "stdout",
          "text": [
            "MSE = 746.5601390614528\n",
            "Slope: [-0.71265733]\n"
          ]
        },
        {
          "output_type": "display_data",
          "data": {
            "image/png": "[encoded data removed]",
            "text/plain": [
              "<Figure size 432x288 with 1 Axes>"
            ]
          },
          "metadata": {
            "needs_background": "light"
          }
        }
      ]
    },
    {
      "cell_type": "code",
      "metadata": {
        "colab": {
          "base_uri": "https://localhost:8080/"
        },
        "id": "00gKAJMmpz4t",
        "outputId": "fea29122-4166-4a7c-cd9c-0502b24bac1e"
      },
      "source": [
        "#Analyzing other models (RandomForest & ExtraTreesRegressor)\n",
        "from sklearn.ensemble import RandomForestRegressor\n",
        "from sklearn.ensemble import ExtraTreesRegressor\n",
        "from sklearn.metrics import explained_variance_score\n",
        "\n",
        "models = []\n",
        "models.append(('LinearRegression', LinearRegression()))\n",
        "models.append(('RandomForestRegressor', RandomForestRegressor()))\n",
        "models.append(('ExtraTreesRegressor', ExtraTreesRegressor()))\n",
        "\n",
        "for name, model in models:\n",
        "    model.fit(X, Y)\n",
        "    p = model.predict(X)\n",
        "    score = explained_variance_score(Y, p)\n",
        "    mse = mean_squared_error(p, Y)\n",
        "    \n",
        "    final = \"%s \\n     Score:%f; MSE:%f\\n\" % (name, score, mse)\n",
        "    print(final)"
      ],
      "execution_count": 18,
      "outputs": [
        {
          "output_type": "stream",
          "name": "stdout",
          "text": [
            "LinearRegression \n",
            "     Score:0.020378; MSE:731.390087\n",
            "\n",
            "RandomForestRegressor \n",
            "     Score:0.853305; MSE:110.416744\n",
            "\n",
            "ExtraTreesRegressor \n",
            "     Score:0.984253; MSE:11.756586\n",
            "\n"
          ]
        }
      ]
    }
  ]
}